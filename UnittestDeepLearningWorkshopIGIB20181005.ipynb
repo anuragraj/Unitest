{
 "cells": [
  {
   "cell_type": "code",
   "execution_count": 1,
   "metadata": {},
   "outputs": [],
   "source": [
    "%matplotlib inline\n",
    "import torch\n",
    "import torch.nn as nn\n",
    "import torch.nn.functional as F\n",
    "import numpy as np\n",
    "from torchvision import transforms, datasets\n",
    "import torch.optim as optim\n",
    "from torch.optim import lr_scheduler\n",
    "from torch.autograd import Variable\n",
    "import matplotlib.pyplot as plt\n",
    "import torchvision\n",
    "\n",
    "import copy\n",
    "import time\n",
    "import os\n",
    "\n",
    "use_gpu=False"
   ]
  },
  {
   "cell_type": "code",
   "execution_count": 2,
   "metadata": {},
   "outputs": [],
   "source": [
    "# Traning Protocols\n",
    "BatchSize = 16 # Batch size in the data loader\n",
    "NumEpochs = 10 # Number fo epochs to train over\n",
    "\n",
    "# Location of the images folders\n",
    "data_dir = '/home/proto/Documents/unittest/data/'\n",
    "\n",
    "# Details the transforms and the order in which they are applied on the input data for making the input training data robust to variations in input image appearance. However no transforms are applied to the validation data to keep it simple at the dataloader.\n",
    "data_transforms = {\n",
    "    'train': transforms.Compose([\n",
    "        transforms.Resize([32,32]), \n",
    "        #transforms.RandomAffine(45, translate=(0.1, 0.1)),\n",
    "        #transforms.RandomCrop(28),\n",
    "        transforms.RandomHorizontalFlip(p=0.5),\n",
    "        transforms.ColorJitter(brightness=0.1, contrast=0.1, saturation=0.1, hue=0.1),\n",
    "        transforms.ToTensor()]), # Incorporate multiple jitters, rotation, flip, translation deformations in the trainign data to make it robust\n",
    "    'val': transforms.Compose([\n",
    "        transforms.Resize([32,32]),\n",
    "        transforms.ToTensor()]), # Just resize the images to match the 64x64 input size\n",
    "\t}\n",
    "\n",
    "image_datasets = {x: datasets.ImageFolder(os.path.join(data_dir, x),\n",
    "\tdata_transforms[x])\n",
    "\tfor x in ['train', 'val']} # This maps the transforms to the respective datasets\n",
    "dataloders = {x: torch.utils.data.DataLoader(image_datasets[x], \n",
    "\tbatch_size=BatchSize, shuffle=True, num_workers=4)\n",
    "\tfor x in ['train', 'val']} # This loads the data from the hard disk drive location per batch with transforms applied"
   ]
  },
  {
   "cell_type": "code",
   "execution_count": 3,
   "metadata": {},
   "outputs": [
    {
     "name": "stdout",
     "output_type": "stream",
     "text": [
      "Dataset size: {'train': 240, 'val': 20}\n",
      "Names of training classes: ['0', '1']\n",
      "Names of validation classes: ['0', '1']\n"
     ]
    }
   ],
   "source": [
    "dataset_sizes = {x: len(image_datasets[x]) for x in ['train', 'val']} # Size fo the dataset\n",
    "print('Dataset size: '+str(dataset_sizes))\n",
    "train_class_names = image_datasets['train'].classes # Use the class names same as the folder names for images of each class\n",
    "print('Names of training classes: '+str(train_class_names))\n",
    "val_class_names = image_datasets['val'].classes # Use the class names same as the folder names for images of each class\n",
    "print('Names of validation classes: '+str(val_class_names))"
   ]
  },
  {
   "cell_type": "code",
   "execution_count": 4,
   "metadata": {},
   "outputs": [],
   "source": [
    "# Define the training routine as a function\n",
    "def train_model(model, criterion, optimizer, scheduler, num_epochs):\n",
    "    since = time.time() # Start monitoring the time to execute routine\n",
    "\n",
    "    best_model_wts = model.state_dict() # Watch and save the model weights at start to enable starting by loading a pre-trained model\n",
    "    best_acc = 0.0 # Temporary variable to monitor the accuracy on validation set\n",
    "    trainLoss = []\n",
    "    trainAcc = []\n",
    "    valLoss = []\n",
    "    valAcc = []\n",
    "    # Start the epoch processing counter\n",
    "    for epoch in range(num_epochs): \n",
    "        print('Epoch {}/{}'.format(epoch+1, num_epochs))\n",
    "        print('-' * 10)\n",
    "\n",
    "        # Each epoch has a training and validation phase, so set the model update and internal variable management suitable to each phase. Gradients are not accumulated and weights are not updated in Validation phase\n",
    "        for phase in ['train', 'val']:\n",
    "            if phase == 'train':\n",
    "                scheduler.step()\n",
    "                model.train(True)  # Set model to training mode\n",
    "            else:\n",
    "                model.train(False)  # Set model to evaluate mode\n",
    "\n",
    "            running_loss = 0.0\n",
    "            running_corrects = 0.0\n",
    "\n",
    "            # Iterate over data.\n",
    "            for data in dataloders[phase]:\n",
    "                # get the inputs\n",
    "                inputs, labels = data\n",
    "\n",
    "                # Wrap the inputs and labels in a Variable\n",
    "                if use_gpu:\n",
    "                    inputs, labels = Variable(inputs.cuda()), Variable(labels.cuda())\n",
    "                else:\n",
    "                    inputs, labels = Variable(inputs), Variable(labels)\n",
    "\n",
    "                # zero the parameter gradients\n",
    "                optimizer.zero_grad()\n",
    "\n",
    "                # forward pass over the network\n",
    "                outputs = model(inputs)\n",
    "                _, preds = torch.max(outputs.data, 1)\n",
    "                loss = criterion(outputs, labels)\n",
    "\n",
    "                # backward + optimize only if in training phase\n",
    "                if phase == 'train':\n",
    "                    loss.backward()\n",
    "                    optimizer.step()\n",
    "\n",
    "                # collect performance statistics\n",
    "                running_loss += loss.item()\n",
    "                running_corrects += torch.sum(preds == labels.data)\n",
    "\n",
    "            epoch_loss = running_loss / dataset_sizes[phase]\n",
    "            epoch_acc = running_corrects.item() / dataset_sizes[phase]\n",
    "\n",
    "            print('{} Loss: {:.4f} Acc: {:.4f}'.format(\n",
    "                phase, epoch_loss, epoch_acc))\n",
    "\n",
    "            # deep copy the model\n",
    "            if phase == 'val' and epoch_acc > best_acc:\n",
    "                best_epoch = epoch\n",
    "                best_acc = epoch_acc\n",
    "                best_model_wts = model.state_dict()\n",
    "                torch.save(model, './model.pth') # Save the model after every epoch\n",
    "            if phase == 'train':\n",
    "                trainLoss.append(epoch_loss)\n",
    "                trainAcc.append(epoch_acc)\n",
    "            if phase == 'val':\n",
    "                valLoss.append(epoch_loss)\n",
    "                valAcc.append(epoch_acc)\n",
    "    \n",
    "        # Plotting training loss vs Epochs\n",
    "        fig1 = plt.figure(1)        \n",
    "        if epoch == 0:\n",
    "            plt.plot(range(epoch+1),trainLoss,'r-', range(epoch+1),valLoss,'b-',label=['train','val'])\n",
    "            plt.legend(loc='upper left')\n",
    "            plt.xlabel('Epochs')\n",
    "            plt.ylabel('Cross Entropy Loss')\n",
    "        else:\n",
    "            plt.plot(range(epoch+1),trainLoss,'r-', range(epoch+1),valLoss,'b-')\n",
    "        plt.savefig('./Loss.png')\n",
    "\n",
    "        # Plotting testing accuracy vs Epochs\n",
    "        fig2 = plt.figure(2)        \n",
    "        if epoch == 0:\n",
    "            plt.plot(range(epoch+1),trainAcc,'r-', range(epoch+1),valAcc,'b-',label=['train','val'])        \n",
    "            plt.legend(loc='upper left')\n",
    "            plt.xlabel('Epochs')\n",
    "            plt.ylabel('Accuracy')\n",
    "        else:\n",
    "            plt.plot(range(epoch+1),trainAcc,'r-', range(epoch+1),valAcc,'b-') \n",
    "            plt.title('Best val accuracy: '+str(best_acc)+' at epoch '+str(best_epoch))       \n",
    "        plt.savefig('./Accuracy.png')\n",
    "\n",
    "    print()\n",
    "\n",
    "    time_elapsed = time.time() - since\n",
    "    print('Training complete in {:.0f}m {:.0f}s'.format(\n",
    "        time_elapsed // 60, time_elapsed % 60))\n",
    "    print('Best val Acc: {:4f}'.format(best_acc))\n",
    "\n",
    "    # load best model weights\n",
    "    model.load_state_dict(best_model_wts)\n",
    "    return model"
   ]
  },
  {
   "cell_type": "code",
   "execution_count": 5,
   "metadata": {},
   "outputs": [],
   "source": [
    "class ModLeNet(nn.Module):\n",
    "    def __init__(self):\n",
    "        super(ModLeNet, self).__init__()\n",
    "        self.conv1 = nn.Conv2d(3, 16, kernel_size=5)\n",
    "        self.pool1 = nn.MaxPool2d(kernel_size=2,stride=2)\n",
    "        self.conv2 = nn.Conv2d(16, 64, kernel_size=5)\n",
    "        self.pool2 = nn.MaxPool2d(kernel_size=2,stride=2)        \n",
    "        self.fc1 = nn.Linear(1600, 120)\n",
    "        self.fc2 = nn.Linear(120, 84)\n",
    "        self.fc3 = nn.Linear(84, 2)\n",
    "\n",
    "    def forward(self, x):\n",
    "        x = F.relu(self.conv1(x))\n",
    "        x = self.pool1(x)\n",
    "        x = F.relu(self.conv2(x))\n",
    "        x = self.pool2(x)\n",
    "        x = x.view(-1, 1600)\n",
    "        x = F.relu(self.fc1(x)) \n",
    "        x = F.relu(self.fc2(x))\n",
    "        x = self.fc3(x)\n",
    "        return F.log_softmax(x)"
   ]
  },
  {
   "cell_type": "code",
   "execution_count": 6,
   "metadata": {},
   "outputs": [
    {
     "name": "stdout",
     "output_type": "stream",
     "text": [
      "torch.Size([16, 3, 32, 32])\n",
      "torch.Size([16, 2])\n"
     ]
    },
    {
     "name": "stderr",
     "output_type": "stream",
     "text": [
      "/home/proto/anaconda3/lib/python3.6/site-packages/ipykernel_launcher.py:21: UserWarning: Implicit dimension choice for log_softmax has been deprecated. Change the call to include dim=X as an argument.\n"
     ]
    }
   ],
   "source": [
    "inp=torch.Tensor(16,3,32,32)\n",
    "print(inp.size())\n",
    "model = ModLeNet()\n",
    "out = model(inp)\n",
    "print(out.size())"
   ]
  },
  {
   "cell_type": "code",
   "execution_count": 7,
   "metadata": {},
   "outputs": [
    {
     "name": "stdout",
     "output_type": "stream",
     "text": [
      "ModLeNet(\n",
      "  (conv1): Conv2d(3, 16, kernel_size=(5, 5), stride=(1, 1))\n",
      "  (pool1): MaxPool2d(kernel_size=2, stride=2, padding=0, dilation=1, ceil_mode=False)\n",
      "  (conv2): Conv2d(16, 64, kernel_size=(5, 5), stride=(1, 1))\n",
      "  (pool2): MaxPool2d(kernel_size=2, stride=2, padding=0, dilation=1, ceil_mode=False)\n",
      "  (fc1): Linear(in_features=1600, out_features=120, bias=True)\n",
      "  (fc2): Linear(in_features=120, out_features=84, bias=True)\n",
      "  (fc3): Linear(in_features=84, out_features=2, bias=True)\n",
      ")\n"
     ]
    }
   ],
   "source": [
    "print(model)"
   ]
  },
  {
   "cell_type": "code",
   "execution_count": 8,
   "metadata": {},
   "outputs": [
    {
     "name": "stdout",
     "output_type": "stream",
     "text": [
      "ModLeNet(\n",
      "  (conv1): Conv2d(3, 16, kernel_size=(5, 5), stride=(1, 1))\n",
      "  (pool1): MaxPool2d(kernel_size=2, stride=2, padding=0, dilation=1, ceil_mode=False)\n",
      "  (conv2): Conv2d(16, 64, kernel_size=(5, 5), stride=(1, 1))\n",
      "  (pool2): MaxPool2d(kernel_size=2, stride=2, padding=0, dilation=1, ceil_mode=False)\n",
      "  (fc1): Linear(in_features=1600, out_features=120, bias=True)\n",
      "  (fc2): Linear(in_features=120, out_features=84, bias=True)\n",
      "  (fc3): Linear(in_features=84, out_features=2, bias=True)\n",
      ")\n",
      "Epoch 1/10\n",
      "----------\n"
     ]
    },
    {
     "name": "stderr",
     "output_type": "stream",
     "text": [
      "/home/proto/anaconda3/lib/python3.6/site-packages/ipykernel_launcher.py:21: UserWarning: Implicit dimension choice for log_softmax has been deprecated. Change the call to include dim=X as an argument.\n"
     ]
    },
    {
     "name": "stdout",
     "output_type": "stream",
     "text": [
      "train Loss: 0.0436 Acc: 0.4542\n",
      "val Loss: 0.0689 Acc: 0.5000\n"
     ]
    },
    {
     "name": "stderr",
     "output_type": "stream",
     "text": [
      "/home/proto/anaconda3/lib/python3.6/site-packages/torch/serialization.py:241: UserWarning: Couldn't retrieve source code for container of type ModLeNet. It won't be checked for correctness upon loading.\n",
      "  \"type \" + obj.__name__ + \". It won't be checked \"\n"
     ]
    },
    {
     "name": "stdout",
     "output_type": "stream",
     "text": [
      "Epoch 2/10\n",
      "----------\n",
      "train Loss: 0.0428 Acc: 0.5917\n",
      "val Loss: 0.0659 Acc: 0.5500\n",
      "Epoch 3/10\n",
      "----------\n",
      "train Loss: 0.0403 Acc: 0.6708\n",
      "val Loss: 0.0568 Acc: 0.6000\n",
      "Epoch 4/10\n",
      "----------\n",
      "train Loss: 0.0420 Acc: 0.5875\n",
      "val Loss: 0.0584 Acc: 0.5000\n",
      "Epoch 5/10\n",
      "----------\n",
      "train Loss: 0.0396 Acc: 0.6833\n",
      "val Loss: 0.0578 Acc: 0.6500\n",
      "Epoch 6/10\n",
      "----------\n",
      "train Loss: 0.0385 Acc: 0.6792\n",
      "val Loss: 0.0494 Acc: 1.0000\n",
      "Epoch 7/10\n",
      "----------\n",
      "train Loss: 0.0340 Acc: 0.7167\n",
      "val Loss: 0.0497 Acc: 0.8000\n",
      "Epoch 8/10\n",
      "----------\n",
      "train Loss: 0.0354 Acc: 0.7083\n",
      "val Loss: 0.0574 Acc: 0.6000\n",
      "Epoch 9/10\n",
      "----------\n",
      "train Loss: 0.0332 Acc: 0.7417\n",
      "val Loss: 0.0392 Acc: 0.9500\n",
      "Epoch 10/10\n",
      "----------\n",
      "train Loss: 0.0301 Acc: 0.7667\n",
      "val Loss: 0.0371 Acc: 0.7000\n",
      "\n",
      "Training complete in 0m 11s\n",
      "Best val Acc: 1.000000\n"
     ]
    },
    {
     "data": {
      "image/png": "[encoded data removed]",
      "text/plain": [
       "<Figure size 432x288 with 1 Axes>"
      ]
     },
     "metadata": {},
     "output_type": "display_data"
    },
    {
     "data": {
      "image/png": "[encoded data removed]",
      "text/plain": [
       "<Figure size 432x288 with 1 Axes>"
      ]
     },
     "metadata": {},
     "output_type": "display_data"
    }
   ],
   "source": [
    "# Initialize the model per detinition\n",
    "model_ft = ModLeNet()\n",
    "print(model_ft)\n",
    "\n",
    "# Define the loss function or traning criterion\n",
    "criterion = nn.CrossEntropyLoss()\n",
    "# Define the optimizer to be used and observe that all parameters are being optimized\n",
    "optimizer_ft = optim.Adam(model_ft.parameters(), lr = 0.001)\n",
    "\n",
    "# Decay LR by a factor of 0.1 every 2 epochs\n",
    "exp_lr_scheduler = lr_scheduler.StepLR(optimizer_ft, step_size=10, gamma=0.1)\n",
    "# Start training the model\n",
    "model_ft = train_model(model_ft, criterion, optimizer_ft, exp_lr_scheduler,NumEpochs)"
   ]
  }
 ],
 "metadata": {
  "kernelspec": {
   "display_name": "Python 3",
   "language": "python",
   "name": "python3"
  },
  "language_info": {
   "codemirror_mode": {
    "name": "ipython",
    "version": 3
   },
   "file_extension": ".py",
   "mimetype": "text/x-python",
   "name": "python",
   "nbconvert_exporter": "python",
   "pygments_lexer": "ipython3",
   "version": "3.6.5"
  }
 },
 "nbformat": 4,
 "nbformat_minor": 2
}
